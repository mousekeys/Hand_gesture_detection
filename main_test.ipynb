{
 "cells": [
  {
   "cell_type": "code",
   "execution_count": 7,
   "metadata": {},
   "outputs": [],
   "source": [
    "from mediapipe import solutions\n",
    "from mediapipe.framework.formats import landmark_pb2\n",
    "import numpy as np\n",
    "import pandas as pd\n",
    "import cv2\n",
    "import argparse\n",
    "import mediapipe as mdp"
   ]
  },
  {
   "cell_type": "code",
   "execution_count": 15,
   "metadata": {},
   "outputs": [],
   "source": [
    "# GETS THE REQUIRED ARGUMENTS IN CLI \n",
    "\n",
    "# def get_args():\n",
    "#     parser=argparse.ArgumentParser()\n",
    "\n",
    "#     parser.add_argument(\"--device\", type= int,default=0)\n",
    "#     parser.add_argument(\"--staticimage\", action=\"store_true\")\n",
    "#     parser.add_argument(\"--width\",help=\"Maximun width\", type= int,default=960)\n",
    "#     parser.add_argument(\"--height\",help=\"Maximun height\", type= int,default=540)\n",
    "\n",
    "#     parser.add_argument(\"--minDetection\" ,help=\"Minimum confidence for detection\",type=float,default=0.6)\n",
    "#     parser.add_argument(\"--minTracking\" ,help=\"Minimum confidenxce for tracking\",type=float,default=0.8)\n",
    "\n",
    "#     args = parser.parse_args()\n",
    "\n",
    "#     return args\n"
   ]
  },
  {
   "cell_type": "code",
   "execution_count": 22,
   "metadata": {},
   "outputs": [],
   "source": [
    "def load_models(use_static_image_mode,min_detection,min_tracking):\n",
    "\n",
    "#LOAD MODEL TO DETECT LANDMARKS IN HANDS\n",
    "    mdp_hands=mdp.solutions.hands\n",
    "    hands=mdp_hands.Hands(\n",
    "        static_image_mode=use_static_image_mode,\n",
    "        max_hands_num=2,\n",
    "        min_detection_confidence=min_detection,\n",
    "        min_tracking_confidence=min_tracking\n",
    "        )\n"
   ]
  },
  {
   "cell_type": "code",
   "execution_count": 34,
   "metadata": {},
   "outputs": [
    {
     "name": "stdout",
     "output_type": "stream",
     "text": [
      "< cv2.VideoCapture 000001DA8F030470>\n"
     ]
    }
   ],
   "source": [
    "def camera_input(cam_device,cam_width,cam_height):\n",
    "\n",
    "#POPERLY INITIALIZE CAMERA FOR WORKING\n",
    "    cam=cv2.VideoCapture(cam_device)\n",
    "    cam.set(cv2.CAP_PROP_FRAME_WIDTH,cam_width)\n",
    "    cam.set(cv2.CAP_PROP_FRAME_HEIGHT,cam_height)\n",
    "    while True:\n",
    "        ret, frame = cam.read()\n",
    "\n",
    "        if not ret:\n",
    "            print(\"Error: Failed to capture frame.\")\n",
    "            break\n",
    "\n",
    "        # Display the frame\n",
    "        cv2.imshow('Camera Feed', frame)\n",
    "\n",
    "        # Exit loop if 'q' is pressed\n",
    "        if cv2.waitKey(1) & 0xFF == ord('q'):\n",
    "            break\n",
    "    print(cam)\n",
    "    cam.release()\n",
    "    cv2.waitKey(0)\n",
    "    cv2.destroyAllWindows()\n",
    "\n"
   ]
  },
  {
   "cell_type": "markdown",
   "metadata": {},
   "source": []
  },
  {
   "cell_type": "code",
   "execution_count": 37,
   "metadata": {},
   "outputs": [
    {
     "ename": "TypeError",
     "evalue": "camera_input() takes 0 positional arguments but 3 were given",
     "output_type": "error",
     "traceback": [
      "\u001b[1;31m---------------------------------------------------------------------------\u001b[0m",
      "\u001b[1;31mTypeError\u001b[0m                                 Traceback (most recent call last)",
      "Cell \u001b[1;32mIn[37], line 15\u001b[0m\n\u001b[0;32m     12\u001b[0m     camera_input(cam_device,cam_width,cam_height)\n\u001b[0;32m     13\u001b[0m     load_models(use_static_image_mode,min_detection,min_tracking)\n\u001b[1;32m---> 15\u001b[0m \u001b[43mmain\u001b[49m\u001b[43m(\u001b[49m\u001b[43m)\u001b[49m\n",
      "Cell \u001b[1;32mIn[37], line 12\u001b[0m, in \u001b[0;36mmain\u001b[1;34m()\u001b[0m\n\u001b[0;32m      9\u001b[0m min_detection\u001b[38;5;241m=\u001b[39m\u001b[38;5;241m0.6\u001b[39m\n\u001b[0;32m     10\u001b[0m min_tracking\u001b[38;5;241m=\u001b[39m\u001b[38;5;241m0.8\u001b[39m\n\u001b[1;32m---> 12\u001b[0m \u001b[43mcamera_input\u001b[49m\u001b[43m(\u001b[49m\u001b[43mcam_device\u001b[49m\u001b[43m,\u001b[49m\u001b[43mcam_width\u001b[49m\u001b[43m,\u001b[49m\u001b[43mcam_height\u001b[49m\u001b[43m)\u001b[49m\n\u001b[0;32m     13\u001b[0m load_models(use_static_image_mode,min_detection,min_tracking)\n",
      "\u001b[1;31mTypeError\u001b[0m: camera_input() takes 0 positional arguments but 3 were given"
     ]
    }
   ],
   "source": [
    "def main():\n",
    "    \n",
    "# GET THE CAMERA ARGUMENTS FROM CLI COMMANDS\n",
    "    cam_device=0\n",
    "    cam_width=960\n",
    "    cam_height=540\n",
    "# GET THE CAMERA ARGUMENTS FROM CLI COMMANDS\n",
    "    use_static_image_mode=True\n",
    "    min_detection=0.6\n",
    "    min_tracking=0.8\n",
    "\n",
    "    camera_input(cam_device,cam_width,cam_height)\n",
    "    load_models(use_static_image_mode,min_detection,min_tracking)\n",
    "    \n",
    "main()"
   ]
  }
 ],
 "metadata": {
  "kernelspec": {
   "display_name": "media",
   "language": "python",
   "name": "python3"
  },
  "language_info": {
   "codemirror_mode": {
    "name": "ipython",
    "version": 3
   },
   "file_extension": ".py",
   "mimetype": "text/x-python",
   "name": "python",
   "nbconvert_exporter": "python",
   "pygments_lexer": "ipython3",
   "version": "3.12.3"
  }
 },
 "nbformat": 4,
 "nbformat_minor": 2
}
